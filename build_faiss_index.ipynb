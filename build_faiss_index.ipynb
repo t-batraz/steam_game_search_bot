{
 "cells": [
  {
   "metadata": {
    "ExecuteTime": {
     "end_time": "2025-06-16T13:34:27.263833Z",
     "start_time": "2025-06-16T13:34:22.068130Z"
    }
   },
   "cell_type": "code",
   "source": [
    "import json\n",
    "import os\n",
    "\n",
    "games_data = [0] * len(os.listdir(\"faiss_data/games_data\"))\n",
    "for file in os.listdir(\"faiss_data/games_data\"):\n",
    "    with open(f\"faiss_data/games_data/{file}\", \"r\", encoding=\"utf-8\") as f:\n",
    "        data = json.load(f)\n",
    "        games_data[int(file.replace('.json', ''))] = data"
   ],
   "id": "fc8c72727dcbd1bd",
   "outputs": [],
   "execution_count": 1
  },
  {
   "metadata": {
    "ExecuteTime": {
     "end_time": "2025-06-16T13:34:28.803916Z",
     "start_time": "2025-06-16T13:34:27.267062Z"
    }
   },
   "cell_type": "code",
   "source": [
    "data = []\n",
    "for i in range(len(games_data)):\n",
    "    u_revs = \"\\n\".join(games_data[i][\"users_reviews\"])\n",
    "    s = f\"\"\"{games_data[i][\"name\"]}\n",
    "price:{games_data[i][\"price\"]}\n",
    "release_date:{games_data[i][\"release_date\"]}\n",
    "detailed_description:{games_data[i][\"price\"]}\n",
    "users_reviews:{u_revs}\n",
    "\"\"\"\n",
    "    data.append(s)"
   ],
   "id": "f1de2f7f081a8a76",
   "outputs": [],
   "execution_count": 2
  },
  {
   "metadata": {
    "ExecuteTime": {
     "end_time": "2025-06-16T13:34:37.521919Z",
     "start_time": "2025-06-16T13:34:28.969412Z"
    }
   },
   "cell_type": "code",
   "source": [
    "from sentence_transformers import SentenceTransformer\n",
    "import torch"
   ],
   "id": "a630229bb021cd16",
   "outputs": [],
   "execution_count": 3
  },
  {
   "metadata": {
    "ExecuteTime": {
     "end_time": "2025-06-16T13:34:37.551870Z",
     "start_time": "2025-06-16T13:34:37.529873Z"
    }
   },
   "cell_type": "code",
   "source": "device = torch.device(\"cuda\") if torch.cuda.is_available() else torch.device(\"cpu\")",
   "id": "c4b8bf00a58ffee8",
   "outputs": [],
   "execution_count": 4
  },
  {
   "metadata": {},
   "cell_type": "code",
   "source": "embed_model = SentenceTransformer('jinaai/jina-embeddings-v3', trust_remote_code=True).to(device)",
   "id": "3ce7a322727e1e2c",
   "outputs": [],
   "execution_count": null
  },
  {
   "metadata": {
    "ExecuteTime": {
     "end_time": "2025-06-16T13:42:56.776220Z",
     "start_time": "2025-06-16T13:34:45.348755Z"
    }
   },
   "cell_type": "code",
   "source": "embeddings = embed_model.encode(data, batch_size=4)",
   "id": "8cb1db017751413e",
   "outputs": [],
   "execution_count": 6
  },
  {
   "metadata": {
    "ExecuteTime": {
     "end_time": "2025-06-16T13:42:56.951498Z",
     "start_time": "2025-06-16T13:42:56.787047Z"
    }
   },
   "cell_type": "code",
   "source": [
    "import numpy as np\n",
    "import faiss\n",
    "\n",
    "embedding_dim = embeddings.shape[1]\n",
    "index = faiss.IndexFlatIP(embedding_dim)\n",
    "index.add(np.vstack(embeddings).astype('float32'))"
   ],
   "id": "b6cd7af161d058c0",
   "outputs": [],
   "execution_count": 7
  },
  {
   "metadata": {
    "ExecuteTime": {
     "end_time": "2025-06-16T13:42:57.053214Z",
     "start_time": "2025-06-16T13:42:56.963415Z"
    }
   },
   "cell_type": "code",
   "source": "faiss.write_index(index, \"faiss_data/games_data_index.index\")",
   "id": "d37b338b372d869c",
   "outputs": [],
   "execution_count": 8
  }
 ],
 "metadata": {
  "kernelspec": {
   "display_name": "Python 3",
   "language": "python",
   "name": "python3"
  },
  "language_info": {
   "codemirror_mode": {
    "name": "ipython",
    "version": 2
   },
   "file_extension": ".py",
   "mimetype": "text/x-python",
   "name": "python",
   "nbconvert_exporter": "python",
   "pygments_lexer": "ipython2",
   "version": "2.7.6"
  }
 },
 "nbformat": 4,
 "nbformat_minor": 5
}
