{
 "cells": [
  {
   "metadata": {
    "collapsed": true
   },
   "cell_type": "code",
   "outputs": [],
   "execution_count": null,
   "source": [
    "from transformers import AutoModelForCausalLM, AutoTokenizer, BitsAndBytesConfig, TrainingArguments, DataCollatorForLanguageModeling\n",
    "from datasets import load_dataset\n",
    "from trl import SFTTrainer\n",
    "from peft import LoraConfig, get_peft_model\n",
    "import gc, torch"
   ],
   "id": "b7317fde29c105bd"
  },
  {
   "metadata": {},
   "cell_type": "code",
   "outputs": [],
   "execution_count": null,
   "source": "model_name = \"meta-llama/Llama-3.2-3B-Instruct\"",
   "id": "ca49c477cbf1378"
  },
  {
   "metadata": {},
   "cell_type": "code",
   "outputs": [],
   "execution_count": null,
   "source": [
    "tokenizer = AutoTokenizer.from_pretrained(model_name)\n",
    "tokenizer.pad_token = tokenizer.eos_token"
   ],
   "id": "1586da34f4fbf770"
  },
  {
   "metadata": {},
   "cell_type": "code",
   "outputs": [],
   "execution_count": null,
   "source": [
    "bnb_config = BitsAndBytesConfig(\n",
    "    load_in_4bit=True,\n",
    "    bnb_4bit_use_double_quant=True,\n",
    "    bnb_4bit_quant_type=\"nf4\",\n",
    "    bnb_4bit_compute_dtype=\"bfloat16\"\n",
    ")"
   ],
   "id": "853df11f02edbbfa"
  },
  {
   "metadata": {},
   "cell_type": "code",
   "outputs": [],
   "execution_count": null,
   "source": [
    "model = AutoModelForCausalLM.from_pretrained(\n",
    "    model_name,\n",
    "    device_map=\"auto\",\n",
    "    torch_dtype=\"auto\",\n",
    "    quantization_config=bnb_config,\n",
    ")"
   ],
   "id": "200430b4adf609ab"
  },
  {
   "metadata": {},
   "cell_type": "code",
   "outputs": [],
   "execution_count": null,
   "source": "dataset = load_dataset(\"json\", data_files={\"train\": \"train_data/ign/train.json\", \"val\": \"train_data/ign/test.json\"})",
   "id": "571f69b2d5cbdf94"
  },
  {
   "metadata": {},
   "cell_type": "code",
   "outputs": [],
   "execution_count": null,
   "source": [
    "ind = 7\n",
    "name = dataset['val'][ind]['name']\n",
    "revs = dataset['val'][ind]['users_revs']\n",
    "verdict = dataset['val'][ind]['verdict']\n",
    "\n",
    "messages = [\n",
    "    {\"role\": \"system\", \"content\": \"Below are reviews from users. Analyze them and write a short, professional review of the game.\\n\"},\n",
    "    {\"role\": \"user\", \"content\": f\"Game name: {name}\\n\" + '\\n'.join([r.replace('\\n', ' ') for r in revs])}\n",
    "]"
   ],
   "id": "c7fef9d9c67cd99e"
  },
  {
   "metadata": {},
   "cell_type": "code",
   "outputs": [],
   "execution_count": null,
   "source": "print(tokenizer.apply_chat_template(messages, tokenize=False,  add_generation_prompt=True))",
   "id": "75cb02cffc74cc18"
  },
  {
   "metadata": {},
   "cell_type": "code",
   "outputs": [],
   "execution_count": null,
   "source": [
    "input_ids = tokenizer.apply_chat_template(\n",
    "    messages, tokenize=True, return_tensors=\"pt\", add_generation_prompt=True \n",
    ").to(\"cuda\")\n",
    "\n",
    "outputs = model.generate(input_ids, max_new_tokens=512)"
   ],
   "id": "7d337c3968bf8e22"
  },
  {
   "metadata": {},
   "cell_type": "code",
   "outputs": [],
   "execution_count": null,
   "source": "print(tokenizer.decode(outputs[0][input_ids.size(1) :], skip_special_tokens=True))",
   "id": "aab86f77fc00fc89"
  },
  {
   "metadata": {},
   "cell_type": "code",
   "outputs": [],
   "execution_count": null,
   "source": "print(verdict)",
   "id": "a78c294637b40ec4"
  },
  {
   "metadata": {},
   "cell_type": "code",
   "outputs": [],
   "execution_count": null,
   "source": [
    "def process_fun(example):\n",
    "    names = example['name']\n",
    "    users_revs = example['users_revs']\n",
    "    pro_revs = example['verdict']\n",
    "\n",
    "    data = []\n",
    "\n",
    "    for name, u_revs, pro_rev in zip(names, users_revs, pro_revs):\n",
    "        u_revs = [rev.replace(\"\\n\", \" \") for rev in u_revs]\n",
    "        u_revs = \"\\n\".join(u_revs)\n",
    "        messages = [\n",
    "            {\"role\": \"system\", \"content\": \"Below are reviews from users. Analyze them and write a short, professional review of the game.\\n\"},\n",
    "            {\"role\": \"user\", \"content\": f\"Game name: {name} \\n\" + u_revs},\n",
    "            {\"role\": \"assistant\", \"content\": pro_rev},\n",
    "        ]\n",
    "        message = tokenizer.apply_chat_template(messages, tokenize=False)\n",
    "        data.append(message)\n",
    "    return  {\"text\": data}"
   ],
   "id": "33bc0a9e26b07164"
  },
  {
   "metadata": {},
   "cell_type": "code",
   "outputs": [],
   "execution_count": null,
   "source": [
    "training_data = dataset.map(process_fun, batched=True)\n",
    "training_data = training_data.remove_columns(['url', 'name', 'verdict', 'steam_id', 'users_revs'])"
   ],
   "id": "7cb9d4ba6f51188e"
  },
  {
   "metadata": {},
   "cell_type": "code",
   "outputs": [],
   "execution_count": null,
   "source": [
    "data_collator = DataCollatorForLanguageModeling(\n",
    "    tokenizer=tokenizer,\n",
    "    mlm=False\n",
    ")"
   ],
   "id": "d0c0b56e96212327"
  },
  {
   "metadata": {},
   "cell_type": "code",
   "outputs": [],
   "execution_count": null,
   "source": [
    "lora_config = LoraConfig(\n",
    "    r=8,\n",
    "    lora_alpha=16,\n",
    "    lora_dropout=0,\n",
    "    bias=\"none\",\n",
    "    task_type=\"CAUSAL_LM\",\n",
    "    target_modules=[\n",
    "        \"q_proj\",\n",
    "        \"k_proj\",\n",
    "        \"v_proj\",\n",
    "        \"o_proj\",\n",
    "        \"gate_proj\",\n",
    "        \"up_proj\",\n",
    "        \"down_proj\",\n",
    "    ]\n",
    ")"
   ],
   "id": "a46c726c9774931c"
  },
  {
   "metadata": {},
   "cell_type": "code",
   "outputs": [],
   "execution_count": null,
   "source": "model = get_peft_model(model, lora_config)",
   "id": "ba53cb3529cbf937"
  },
  {
   "metadata": {},
   "cell_type": "code",
   "outputs": [],
   "execution_count": null,
   "source": [
    "training_arguments = TrainingArguments(\n",
    "    output_dir=\"llama-3.2-3B-ign_rev_sft\",\n",
    "    per_device_train_batch_size=1,\n",
    "    gradient_accumulation_steps=2,\n",
    "    optim=\"paged_adamw_32bit\",\n",
    "    learning_rate=2e-4,\n",
    "    num_train_epochs=15,\n",
    "    warmup_steps=5,\n",
    "    fp16=False,\n",
    "    bf16=True,\n",
    "    logging_strategy=\"steps\",\n",
    "    logging_steps=100,\n",
    "    save_strategy=\"epoch\",\n",
    "    save_steps=1,\n",
    "    report_to=\"none\",\n",
    ")\n",
    "\n",
    "trainer = SFTTrainer(\n",
    "    model=model,\n",
    "    args=training_arguments,\n",
    "    train_dataset=training_data['train'],\n",
    "    peft_config=lora_config,\n",
    "    data_collator=data_collator,\n",
    ")"
   ],
   "id": "378f53c028ec9803"
  },
  {
   "metadata": {},
   "cell_type": "code",
   "outputs": [],
   "execution_count": null,
   "source": [
    "gc.collect()\n",
    "torch.cuda.empty_cache()\n",
    "model.config.use_cache = False\n",
    "\n",
    "trainer.train()"
   ],
   "id": "dcec6ed65f134988"
  },
  {
   "metadata": {},
   "cell_type": "code",
   "outputs": [],
   "execution_count": null,
   "source": [
    "input_ids = tokenizer.apply_chat_template(\n",
    "    messages, tokenize=True, return_tensors=\"pt\", add_generation_prompt=True \n",
    ").to(\"cuda\")\n",
    "\n",
    "outputs = model.generate(input_ids, max_new_tokens=512)"
   ],
   "id": "9041194d3ffe1fe3"
  }
 ],
 "metadata": {
  "kernelspec": {
   "display_name": "Python 3",
   "language": "python",
   "name": "python3"
  },
  "language_info": {
   "codemirror_mode": {
    "name": "ipython",
    "version": 2
   },
   "file_extension": ".py",
   "mimetype": "text/x-python",
   "name": "python",
   "nbconvert_exporter": "python",
   "pygments_lexer": "ipython2",
   "version": "2.7.6"
  }
 },
 "nbformat": 4,
 "nbformat_minor": 5
}
